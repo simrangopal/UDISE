{
 "cells": [
  {
   "cell_type": "code",
   "execution_count": null,
   "id": "dd3bbdd2",
   "metadata": {},
   "outputs": [],
   "source": [
    "! pip install selenium\n",
    "from selenium import webdriver\n",
    "from selenium.webdriver.support.select import Select\n",
    "from selenium.webdriver.common.by import By\n",
    "from selenium.webdriver.common.keys import Keys\n",
    "from selenium.webdriver import Chrome\n",
    "from selenium.webdriver.common.action_chains import ActionChains\n",
    "import time \n",
    "# opening the site\n",
    "driver = Chrome(executable_path=r\"C:\\Users\\simran.atul.gopal\\Downloads\\chromedriver-win64\\chromedriver-win64\\chromedriver.exe\")            \n",
    "driver.get(\"https://dashboard.udiseplus.gov.in/#/reportDashboard/sReport\")"
   ]
  },
  {
   "cell_type": "code",
   "execution_count": null,
   "id": "488142d7",
   "metadata": {},
   "outputs": [],
   "source": [
    "#change this to change category\n",
    "button = driver.find_element(By.XPATH,'/html/body/app-root/app-report-dashboard/mat-sidenav-container/mat-sidenav-content/app-static-report/div/mat-card-content/div[2]/div[1]/div/div/div/div/div[2]/table/tr[5]/td[5]/img[2]')\n",
    "driver.implicitly_wait(10)\n",
    "ActionChains(driver).move_to_element(button).click(button).perform()"
   ]
  },
  {
   "cell_type": "code",
   "execution_count": null,
   "id": "26f55e1a",
   "metadata": {},
   "outputs": [],
   "source": [
    "for i in range(1,11):\n",
    "    button = driver.find_element(By.XPATH,'/html/body/ngb-modal-window/div/div/div[2]/div[1]/div/div/div[1]/div/div/select')\n",
    "    driver.implicitly_wait(10)\n",
    "    ActionChains(driver).move_to_element(button).click(button).perform()\n",
    "    driver.implicitly_wait(10)\n",
    "    element = driver.find_element(By.XPATH,'/html/body/ngb-modal-window/div/div/div[2]/div[1]/div/div/div[1]/div/div/select/option['+str(i)+']')\n",
    "    if element.is_enabled():\n",
    "        # The element is enabled, so it can be interacted with\n",
    "        element.click()\n",
    "        button = driver.find_element(By.XPATH,'/html/body/ngb-modal-window/div/div/div[2]/div[1]/div/div/div[2]/div/div/select')\n",
    "        driver.implicitly_wait(10)\n",
    "        ActionChains(driver).move_to_element(button).click(button).perform()\n",
    "        driver.implicitly_wait(10)\n",
    "        options = button.find_elements_by_tag_name('option')\n",
    "        # Get the number of items in the dropdown\n",
    "        num_items1 = len(options)+1\n",
    "        for l in range(3,num_items1):\n",
    "            element = driver.find_element(By.XPATH,'/html/body/ngb-modal-window/div/div/div[2]/div[1]/div/div/div[2]/div/div/select/option['+str(l)+']')\n",
    "            if element.is_enabled():\n",
    "                # The element is enabled, so it can be interacted with\n",
    "                element.click()\n",
    "                driver.implicitly_wait(20)\n",
    "                button = driver.find_element(By.XPATH,'/html/body/ngb-modal-window/div/div/div[2]/div[1]/div/div/div[3]/div/div/select')\n",
    "                driver.implicitly_wait(10)\n",
    "                ActionChains(driver).move_to_element(button).click(button).perform()\n",
    "                driver.implicitly_wait(1010)\n",
    "                element = driver.find_element(By.XPATH,'/html/body/ngb-modal-window/div/div/div[2]/div[1]/div/div/div[3]/div/div/select/option[2]')\n",
    "                if element.is_enabled():\n",
    "                    # The element is enabled, so it can be interacted with\n",
    "                    element.click()\n",
    "                    driver.implicitly_wait(1020)\n",
    "                    button = driver.find_element(By.XPATH,'/html/body/ngb-modal-window/div/div/div[1]/div/div[1]/div/div[2]/ul/li[3]')\n",
    "                    driver.implicitly_wait(10)\n",
    "                    time.sleep(7)\n",
    "                    ActionChains(driver).move_to_element(button).click(button).perform()\n",
    "                    driver.implicitly_wait(1000)"
   ]
  },
  {
   "cell_type": "code",
   "execution_count": null,
   "id": "1bb38818",
   "metadata": {},
   "outputs": [],
   "source": [
    "driver.quit()"
   ]
  }
 ],
 "metadata": {
  "kernelspec": {
   "display_name": "Python 3 (ipykernel)",
   "language": "python",
   "name": "python3"
  },
  "language_info": {
   "codemirror_mode": {
    "name": "ipython",
    "version": 3
   },
   "file_extension": ".py",
   "mimetype": "text/x-python",
   "name": "python",
   "nbconvert_exporter": "python",
   "pygments_lexer": "ipython3",
   "version": "3.9.13"
  }
 },
 "nbformat": 4,
 "nbformat_minor": 5
}
